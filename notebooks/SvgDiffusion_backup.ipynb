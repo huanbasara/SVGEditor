{
 "cells": [
  {
   "cell_type": "code",
   "execution_count": null,
   "metadata": {},
   "outputs": [],
   "source": [
    "from google.colab import drive\n",
    "import os\n",
    "import sys\n",
    "import shutil\n",
    "import subprocess\n",
    "\n",
    "drive.mount('/content/drive')\n",
    "\n",
    "PROJECT_DIR = '/content/drive/MyDrive/Text2SVG'\n",
    "CODE_PATH = f\"{PROJECT_DIR}/code\"\n",
    "DATA_PATH = f\"{PROJECT_DIR}/data\"\n",
    "TEST_PATH = f\"{PROJECT_DIR}/test\""
   ]
  },
  {
   "cell_type": "code",
   "execution_count": null,
   "metadata": {},
   "outputs": [],
   "source": [
    "\n",
    "# 1. Clean existing code directory and clone fresh repository\n",
    "if os.path.exists(CODE_PATH):\n",
    "    shutil.rmtree(CODE_PATH)\n",
    "\n",
    "os.chdir(PROJECT_DIR)\n",
    "result = subprocess.run(['git', 'clone', 'https://github.com/huanbasara/SVGEditor.git', 'code'], \n",
    "                       capture_output=True, text=True)\n",
    "print(f\"Code repository {'successfully' if result.returncode == 0 else 'failed'} to {CODE_PATH}{f', {result.stderr}' if result.returncode != 0 else ''}\")\n",
    "\n",
    "# 2. Display latest commit information\n",
    "os.chdir(CODE_PATH)\n",
    "commit_info = subprocess.run(['git', 'log', '-1', '--pretty=format:%H|%ci|%s'], \n",
    "                           capture_output=True, text=True)\n",
    "\n",
    "if commit_info.returncode == 0:\n",
    "    hash_code, commit_time, commit_msg = commit_info.stdout.strip().split('|', 2)\n",
    "    print(f\"�� Latest commit:\\n   Hash: {hash_code[:8]}\\n   Time: {commit_time}\\n   Message: {commit_msg}\")\n",
    "\n",
    "# 3. Add code path to Python sys.path so we can import our modules\n",
    "if CODE_PATH not in sys.path:\n",
    "    sys.path.insert(0, CODE_PATH)\n",
    "    print(f\"✅ Added {CODE_PATH} to Python path\")\n",
    "\n",
    "# 4. Clear custom modules from cache\n",
    "modules_to_clear = [\n",
    "\n",
    "]\n",
    "\n",
    "for base in modules_to_clear:\n",
    "    to_remove = [m for m in sys.modules if m.startswith(base)]\n",
    "    for m in to_remove:\n",
    "        del sys.modules[m]\n",
    "\n",
    "print(\"✅ Modules reloaded!\")"
   ]
  }
 ],
 "metadata": {
  "kernelspec": {
   "display_name": "Python 3",
   "language": "python",
   "name": "python3"
  },
  "language_info": {
   "codemirror_mode": {
    "name": "ipython",
    "version": 3
   },
   "file_extension": ".py",
   "mimetype": "text/x-python",
   "name": "python",
   "nbconvert_exporter": "python",
   "pygments_lexer": "ipython3",
   "version": "3.8.0"
  }
 },
 "nbformat": 4,
 "nbformat_minor": 4
}
